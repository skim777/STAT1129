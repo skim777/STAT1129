{
  "nbformat": 4,
  "nbformat_minor": 0,
  "metadata": {
    "colab": {
      "provenance": [],
      "collapsed_sections": [],
      "authorship_tag": "ABX9TyMBaQL/AwDncj957jIFa1Ww",
      "include_colab_link": true
    },
    "kernelspec": {
      "name": "python3",
      "display_name": "Python 3"
    },
    "language_info": {
      "name": "python"
    }
  },
  "cells": [
    {
      "cell_type": "markdown",
      "metadata": {
        "id": "view-in-github",
        "colab_type": "text"
      },
      "source": [
        "<a href=\"https://colab.research.google.com/github/skim777/STAT1129/blob/main/STAT1129_HW2.ipynb\" target=\"_parent\"><img src=\"https://colab.research.google.com/assets/colab-badge.svg\" alt=\"Open In Colab\"/></a>"
      ]
    },
    {
      "cell_type": "code",
      "execution_count": 9,
      "metadata": {
        "colab": {
          "base_uri": "https://localhost:8080/"
        },
        "id": "EtfrEtyw7uHs",
        "outputId": "1da2253a-5984-4861-a577-b017354b9c60"
      },
      "outputs": [
        {
          "output_type": "stream",
          "name": "stdout",
          "text": [
            "0\n",
            "1\n",
            "2\n",
            "3\n",
            "4\n"
          ]
        }
      ],
      "source": [
        "#Question 1\n",
        "n = 0\n",
        "while n<10:\n",
        "  print(n)\n",
        "  n = n + 1\n",
        "  if n == 5:\n",
        "    break\n",
        "  "
      ]
    },
    {
      "cell_type": "code",
      "source": [
        "#Question 2\n",
        "n = 0\n",
        "while n<5:\n",
        "  print(n)\n",
        "  n = n + 1\n",
        "else:\n",
        "  print(n, \"is not less than 5\")\n",
        "  "
      ],
      "metadata": {
        "colab": {
          "base_uri": "https://localhost:8080/"
        },
        "id": "UNrUnrJl-NYl",
        "outputId": "3c1dc82c-31df-46ad-a1c1-3b0e2ec199ad"
      },
      "execution_count": 50,
      "outputs": [
        {
          "output_type": "stream",
          "name": "stdout",
          "text": [
            "0\n",
            "1\n",
            "2\n",
            "3\n",
            "4\n",
            "5 is not less than 5\n"
          ]
        }
      ]
    },
    {
      "cell_type": "code",
      "source": [
        "#Question 3\n",
        "fruit = [\"orange\", \"banana\", \"melon\", \"apple\", \"mango\"]\n",
        "for i in fruit:\n",
        "  print(\"I like\", i)\n",
        "  if i == \"apple\":\n",
        "    break"
      ],
      "metadata": {
        "colab": {
          "base_uri": "https://localhost:8080/"
        },
        "id": "yGmPSbdgAmBx",
        "outputId": "2ad2cabe-4fd9-42ec-f8ea-218f4c842e20"
      },
      "execution_count": 23,
      "outputs": [
        {
          "output_type": "stream",
          "name": "stdout",
          "text": [
            "I like orange\n",
            "I like banana\n",
            "I like melon\n",
            "I like apple\n"
          ]
        }
      ]
    },
    {
      "cell_type": "code",
      "source": [
        "#Question 4\n",
        "n = 0\n",
        "sum = 0\n",
        "while n < 30:\n",
        "  n = n + 1\n",
        "  sum = n + sum\n",
        "print(sum)\n"
      ],
      "metadata": {
        "colab": {
          "base_uri": "https://localhost:8080/"
        },
        "id": "dL7rZsYdB9-u",
        "outputId": "e8f435dc-3309-420e-8e57-ebbf7db20e71"
      },
      "execution_count": 51,
      "outputs": [
        {
          "output_type": "stream",
          "name": "stdout",
          "text": [
            "465\n"
          ]
        }
      ]
    },
    {
      "cell_type": "code",
      "source": [
        "#Question 5\n",
        "score = 55\n",
        "if score >= 90:\n",
        "  print(\"A\")\n",
        "elif score >= 80:\n",
        "  print(\"B\")\n",
        "elif score >= 70:\n",
        "  print(\"C\")\n",
        "elif score >= 60:\n",
        "  print(\"D\")\n",
        "else:\n",
        "  print(\"F\")"
      ],
      "metadata": {
        "colab": {
          "base_uri": "https://localhost:8080/"
        },
        "id": "ckg-_8O_D4Ht",
        "outputId": "0aec89d7-35d3-4dac-b8bc-0e990c3b4cea"
      },
      "execution_count": 32,
      "outputs": [
        {
          "output_type": "stream",
          "name": "stdout",
          "text": [
            "F\n"
          ]
        }
      ]
    },
    {
      "cell_type": "code",
      "source": [
        "#Question 6.1\n",
        "marks = {'Andy': 88, 'Amy': 66, 'James': 90, 'Jules': 55, 'Arthur': 77}\n",
        "for k, v in marks.items():\n",
        "  print(k, v)"
      ],
      "metadata": {
        "colab": {
          "base_uri": "https://localhost:8080/"
        },
        "id": "hAV-gn7dLZrl",
        "outputId": "fa946795-2c35-4755-c938-b30e9c76a86b"
      },
      "execution_count": 49,
      "outputs": [
        {
          "output_type": "stream",
          "name": "stdout",
          "text": [
            "Andy 88\n",
            "Amy 66\n",
            "James 90\n",
            "Jules 55\n",
            "Arthur 77\n"
          ]
        }
      ]
    },
    {
      "cell_type": "code",
      "source": [
        "#Question 6.2\n",
        "sum = 0\n",
        "for i in marks.values():\n",
        "  sum = sum + i\n",
        "  average = sum / len(marks)\n",
        "\n",
        "print(average)"
      ],
      "metadata": {
        "colab": {
          "base_uri": "https://localhost:8080/"
        },
        "id": "aC1_MpEOPRCS",
        "outputId": "5e66262f-1665-40e3-cc19-82227a260555"
      },
      "execution_count": 84,
      "outputs": [
        {
          "output_type": "stream",
          "name": "stdout",
          "text": [
            "75.2\n"
          ]
        }
      ]
    },
    {
      "cell_type": "code",
      "source": [
        "#Question 6.3\n",
        "for i in marks.keys():\n",
        "    if 'J' in i:\n",
        "      break\n",
        "    print(i)  \n"
      ],
      "metadata": {
        "colab": {
          "base_uri": "https://localhost:8080/"
        },
        "id": "FqcwhLdeWIa6",
        "outputId": "2422fd26-31a1-4d87-9d00-ea2f4342b17d"
      },
      "execution_count": 109,
      "outputs": [
        {
          "output_type": "stream",
          "name": "stdout",
          "text": [
            "Andy\n",
            "Amy\n"
          ]
        }
      ]
    },
    {
      "cell_type": "code",
      "source": [
        "#Question 6.4\n",
        "for i in marks.keys():\n",
        "  if 'J' in i:\n",
        "    continue\n",
        "  print(i)"
      ],
      "metadata": {
        "colab": {
          "base_uri": "https://localhost:8080/"
        },
        "id": "rmSWIvWYYnCQ",
        "outputId": "f661f272-35bc-414f-e71f-f8ed45b6c5fc"
      },
      "execution_count": 110,
      "outputs": [
        {
          "output_type": "stream",
          "name": "stdout",
          "text": [
            "Andy\n",
            "Amy\n",
            "Arthur\n"
          ]
        }
      ]
    }
  ]
}